{
 "cells": [
  {
   "cell_type": "markdown",
   "id": "a8232989",
   "metadata": {},
   "source": [
    "# Практическое задание 6. SQL для подготовки данных\n"
   ]
  },
  {
   "cell_type": "code",
   "execution_count": 1,
   "id": "c648d685",
   "metadata": {},
   "outputs": [
    {
     "name": "stdout",
     "output_type": "stream",
     "text": [
      "Defaulting to user installation because normal site-packages is not writeable\n",
      "Requirement already satisfied: psycopg2 in c:\\users\\malen\\appdata\\local\\packages\\pythonsoftwarefoundation.python.3.12_qbz5n2kfra8p0\\localcache\\local-packages\\python312\\site-packages (2.9.10)\n",
      "Note: you may need to restart the kernel to use updated packages.\n"
     ]
    },
    {
     "name": "stderr",
     "output_type": "stream",
     "text": [
      "\n",
      "[notice] A new release of pip is available: 25.0.1 -> 25.1\n",
      "[notice] To update, run: C:\\Users\\malen\\AppData\\Local\\Microsoft\\WindowsApps\\PythonSoftwareFoundation.Python.3.12_qbz5n2kfra8p0\\python.exe -m pip install --upgrade pip\n"
     ]
    }
   ],
   "source": [
    "%pip install psycopg2"
   ]
  },
  {
   "cell_type": "code",
   "execution_count": 2,
   "id": "60e3108f",
   "metadata": {},
   "outputs": [],
   "source": [
    "import psycopg2\n",
    "from psycopg2 import Error"
   ]
  },
  {
   "cell_type": "markdown",
   "id": "47524077",
   "metadata": {},
   "source": [
    "1. Создаем таблицу public_transportation_statistics_by_zip_code в нашей бд"
   ]
  },
  {
   "cell_type": "code",
   "execution_count": null,
   "id": "ddf35d50",
   "metadata": {},
   "outputs": [
    {
     "name": "stdout",
     "output_type": "stream",
     "text": [
      "Ошибка при подключении или работе с PostgreSQL: ОШИБКА:  отношение \"public_transportation_statistics_by_zip_code\" уже существует\n",
      "\n",
      "Соединение с PostgreSQL закрыто\n"
     ]
    }
   ],
   "source": [
    "import psycopg2\n",
    "\n",
    "def get_connection(database_name):\n",
    "    # Функция для получения подключения к базе данных\n",
    "    connection = psycopg2.connect(user=\"postgres\",\n",
    "                                  password=\"1\",\n",
    "                                  host=\"localhost\",\n",
    "                                  port=\"5432\",\n",
    "                                  database=database_name)\n",
    "    return connection\n",
    "\n",
    "def close_connection(connection):\n",
    "    # Функция для закрытия подключения к базе данных\n",
    "    if connection:\n",
    "        connection.close()\n",
    "        print(\"Соединение с PostgreSQL закрыто\")\n",
    "\n",
    "try:\n",
    "    # Подключение к базе данных myslon\n",
    "    connection = get_connection(\"myslon\")\n",
    "    cursor = connection.cursor()\n",
    "\n",
    "    # Создание таблицы public_transportation_statistics_by_zip_code\n",
    "    create_table_query = '''\n",
    "    CREATE TABLE public_transportation_statistics_by_zip_code(\n",
    "        zip_code character varying(10) NOT NULL PRIMARY KEY,\n",
    "        public_transportation_pct numeric(15,2) NOT NULL,\n",
    "        public_transportation_population integer\n",
    "    );\n",
    "    '''\n",
    "    cursor.execute(create_table_query)\n",
    "    connection.commit()\n",
    "    print(\"Таблица 'public_transportation_statistics_by_zip_code' успешно создана\")\n",
    "\n",
    "except (Exception, psycopg2.Error) as error:\n",
    "    print(\"Ошибка при подключении или работе с PostgreSQL:\", error)\n",
    "\n",
    "finally:\n",
    "    # Закрытие подключения к базе данных\n",
    "    if connection:\n",
    "        close_connection(connection)"
   ]
  },
  {
   "cell_type": "markdown",
   "id": "27e682c5",
   "metadata": {},
   "source": [
    "2. Вставляем внешний набор данных в ранее созданную таблицу"
   ]
  },
  {
   "cell_type": "code",
   "execution_count": 5,
   "id": "af2fe3e6",
   "metadata": {},
   "outputs": [
    {
     "name": "stdout",
     "output_type": "stream",
     "text": [
      "Данные успешно вставлены в таблицу 'public_transportation_statistics_by_zip_code'\n",
      "Соединение с PostgreSQL закрыто\n"
     ]
    }
   ],
   "source": [
    "import psycopg2\n",
    "import os\n",
    "\n",
    "def get_connection(database_name):\n",
    "    # Функция для получения подключения к базе данных\n",
    "    connection = psycopg2.connect(user=\"postgres\",\n",
    "                                  password=\"1\",\n",
    "                                  host=\"localhost\",\n",
    "                                  port=\"5432\",\n",
    "                                  database=database_name)\n",
    "    return connection\n",
    "\n",
    "def close_connection(connection):\n",
    "    # Функция для закрытия подключения к базе данных\n",
    "    if connection:\n",
    "        connection.close()\n",
    "        print(\"Соединение с PostgreSQL закрыто\")\n",
    "\n",
    "try:\n",
    "    # Подключение к базе данных 'myslon'\n",
    "    connection = get_connection(\"myslon\")\n",
    "    cursor = connection.cursor()\n",
    "\n",
    "# Путь к CSV-файлу\n",
    "    csv_file_path = r\"C:\\Users\\malen\\OneDrive\\Рабочий стол\\базы данных\\public_transportation_statistics_by_zip_code.csv\"\n",
    "\n",
    "    # Проверка существования файла\n",
    "    if not os.path.exists(csv_file_path):\n",
    "        print(f\"ОШИБКА: Файл '{csv_file_path}' не найден.\")\n",
    "        raise False # Возвращаем False при неудаче\n",
    "    \n",
    "    # Вставка данных из CSV-файла с использованием COPY\n",
    "    with open(csv_file_path, 'r') as file:\n",
    "        copy_query = \"\"\"\n",
    "        COPY public_transportation_statistics_by_zip_code(zip_code, public_transportation_pct, public_transportation_population)\n",
    "        FROM STDIN WITH (FORMAT csv, HEADER true, DELIMITER ',');\n",
    "        \"\"\"\n",
    "        cursor.copy_expert(copy_query, file)\n",
    "        connection.commit()\n",
    "        print(\"Данные успешно вставлены в таблицу 'public_transportation_statistics_by_zip_code'\")\n",
    "\n",
    "except (Exception, psycopg2.Error) as error:\n",
    "    print(\"Ошибка при подключении или работе с PostgreSQL:\", error)\n",
    "\n",
    "finally:\n",
    "    # Закрытие подключения к базе данных\n",
    "    if connection:\n",
    "        close_connection(connection)"
   ]
  },
  {
   "cell_type": "markdown",
   "id": "40033293",
   "metadata": {},
   "source": [
    "3. Найдем максимальное и минимальное процентное соотношение в данных. Значения ниже 0 принять как пустое значение"
   ]
  },
  {
   "cell_type": "code",
   "execution_count": 6,
   "id": "1cac88bb",
   "metadata": {},
   "outputs": [
    {
     "name": "stdout",
     "output_type": "stream",
     "text": [
      "Максимальное процентное соотношение: 100.00\n",
      "Минимальное процентное соотношение: 0.00\n",
      "Соединение с PostgreSQL закрыто\n"
     ]
    }
   ],
   "source": [
    "import psycopg2\n",
    "\n",
    "def get_connection(database_name):\n",
    "    # Функция для получения подключения к базе данных\n",
    "    connection = psycopg2.connect(user=\"postgres\",\n",
    "                                  password=\"1\",\n",
    "                                  host=\"localhost\",\n",
    "                                  port=\"5432\",\n",
    "                                  database=database_name)\n",
    "    return connection\n",
    "\n",
    "def close_connection(connection):\n",
    "    # Функция для закрытия подключения к базе данных\n",
    "    if connection:\n",
    "        connection.close()\n",
    "        print(\"Соединение с PostgreSQL закрыто\")\n",
    "\n",
    "try:\n",
    "    # Подключение к базе данных 'myslon'\n",
    "    connection = get_connection(\"myslon\")\n",
    "    cursor = connection.cursor()\n",
    "\n",
    "    # Запрос для поиска максимального и минимального значения процентного соотношения\n",
    "    query = \"\"\"\n",
    "    SELECT \n",
    "        MAX(public_transportation_pct) AS max_pct,\n",
    "        MIN(public_transportation_pct) AS min_pct\n",
    "    FROM public_transportation_statistics_by_zip_code\n",
    "    WHERE public_transportation_pct >= 0;\n",
    "    \"\"\"\n",
    "    cursor.execute(query)\n",
    "    result = cursor.fetchone()\n",
    "    max_pct, min_pct = result\n",
    "    print(f\"Максимальное процентное соотношение: {max_pct}\")\n",
    "    print(f\"Минимальное процентное соотношение: {min_pct}\")\n",
    "\n",
    "except (Exception, psycopg2.Error) as error:\n",
    "    print(\"Ошибка при подключении или работе с PostgreSQL:\", error)\n",
    "\n",
    "finally:\n",
    "    # Закрытие подключения к базе данных\n",
    "    if connection:\n",
    "        close_connection(connection)"
   ]
  },
  {
   "cell_type": "markdown",
   "id": "49ae547c",
   "metadata": {},
   "source": [
    "4. Рассчитаем средний объем продаж для клиентов, проживающих в регионах с высоким уровнем использования общественного транспорта (более 10%), а также с низким уровнем использования общественного транспорта (менее или равным 10%)"
   ]
  },
  {
   "cell_type": "code",
   "execution_count": 7,
   "id": "c3155e70",
   "metadata": {},
   "outputs": [
    {
     "name": "stdout",
     "output_type": "stream",
     "text": [
      "Уровень использования транспорта | Средний объем продаж\n",
      "Низкий | 7261.72734653827\n",
      "Высокий | 6501.975632632401\n",
      "Соединение с PostgreSQL закрыто\n"
     ]
    }
   ],
   "source": [
    "import psycopg2\n",
    "\n",
    "def get_connection(database_name):\n",
    "    # Функция для получения подключения к базе данных\n",
    "    connection = psycopg2.connect(user=\"postgres\",\n",
    "                                  password=\"1\",\n",
    "                                  host=\"localhost\",\n",
    "                                  port=\"5432\",\n",
    "                                  database=database_name)\n",
    "    return connection\n",
    "\n",
    "def close_connection(connection):\n",
    "    # Функция для закрытия подключения к базе данных\n",
    "    if connection:\n",
    "        connection.close()\n",
    "        print(\"Соединение с PostgreSQL закрыто\")\n",
    "\n",
    "try:\n",
    "    # Подключение к базе данных 'myslon'\n",
    "    connection = get_connection(\"myslon\")\n",
    "    cursor = connection.cursor()\n",
    "\n",
    "    # SQL-запрос для расчета среднего объема продаж\n",
    "    query = \"\"\"\n",
    "    SELECT \n",
    "    CASE \n",
    "        WHEN pts.public_transportation_pct > 10 THEN 'Высокий'\n",
    "        ELSE 'Низкий'\n",
    "    END AS \"Уровень использования транспорта\",\n",
    "    AVG(s.sales_amount) AS \"Средний объем продаж\"\n",
    "FROM \n",
    "    sales s\n",
    "JOIN \n",
    "    customers c ON s.customer_id = c.customer_id\n",
    "JOIN \n",
    "    public_transportation_statistics_by_zip_code pts ON c.postal_code = pts.zip_code\n",
    "GROUP BY \n",
    "    CASE \n",
    "        WHEN pts.public_transportation_pct > 10 THEN 'Высокий'\n",
    "        ELSE 'Низкий'\n",
    "    END;\n",
    "    \"\"\"\n",
    "    cursor.execute(query)\n",
    "    results = cursor.fetchall()\n",
    "\n",
    "# Вывод результатов\n",
    "    print(\"Уровень использования транспорта | Средний объем продаж\")\n",
    "    for row in results:\n",
    "        category, avg_sales = row\n",
    "        print(f\"{category} | {avg_sales}\")\n",
    "\n",
    "except (Exception, psycopg2.Error) as error:\n",
    "    print(\"Ошибка при подключении или работе с PostgreSQL:\", error)\n",
    "\n",
    "finally:\n",
    "    # Закрытие подключения к базе данных\n",
    "    if connection:\n",
    "        close_connection(connection)"
   ]
  },
  {
   "cell_type": "markdown",
   "id": "0c5c788c",
   "metadata": {},
   "source": [
    "5. Загрузим данные в pandas и построим гистограмму распределения(использовать my_data.plot.hist(y='public_transportation_pct') для построения гистограммы)"
   ]
  },
  {
   "cell_type": "code",
   "execution_count": null,
   "id": "1c4f13bf",
   "metadata": {},
   "outputs": [
    {
     "name": "stderr",
     "output_type": "stream",
     "text": [
      "C:\\Users\\malen\\AppData\\Local\\Temp\\ipykernel_16700\\3743608510.py:22: UserWarning: pandas only supports SQLAlchemy connectable (engine/connection) or database string URI or sqlite3 DBAPI2 connection. Other DBAPI2 objects are not tested. Please consider using SQLAlchemy.\n",
      "  my_data = pandas.read_sql(query, connection)\n"
     ]
    },
    {
     "data": {
      "image/png": "[encoded data removed]",
      "text/plain": [
       "<Figure size 640x480 with 1 Axes>"
      ]
     },
     "metadata": {},
     "output_type": "display_data"
    },
    {
     "name": "stdout",
     "output_type": "stream",
     "text": [
      "Соединение с PostgreSQL закрыто\n"
     ]
    }
   ],
   "source": [
    "import psycopg2\n",
    "import pandas\n",
    "import matplotlib.pyplot as plt\n",
    "\n",
    "def get_connection(database_name):\n",
    "    # Функция для получения подключения к базе данных\n",
    "    connection = psycopg2.connect(user=\"postgres\",\n",
    "                                  password=\"1\",\n",
    "                                  host=\"localhost\",\n",
    "                                  port=\"5432\",\n",
    "                                  database=database_name)\n",
    "    return connection\n",
    "\n",
    "try:\n",
    "    # Подключение к базе данных 'myslon'\n",
    "    connection = get_connection(\"myslon\")\n",
    "    \n",
    "    # SQL-запрос для выборки данных\n",
    "    query = \"SELECT * FROM public_transportation_statistics_by_zip_code WHERE public_transportation_pct >= 0;\"\n",
    "    \n",
    "    # Загрузка данных в DataFrame\n",
    "    my_data = pandas.read_sql(query, connection)\n",
    "\n",
    "    # Построение гистограммы распределения\n",
    "    my_data.plot.hist(y='public_transportation_pct')\n",
    "    plt.title('Гистограмма распределения')\n",
    "    plt.xlabel('Процент использования общественного транспорта')\n",
    "    plt.ylabel('Частота')\n",
    "    plt.show()\n",
    "\n",
    "except (Exception, psycopg2.Error) as error:\n",
    "    print(\"Ошибка при подключении или работе с PostgreSQL:\", error)\n",
    "\n",
    "finally:\n",
    "    # Закрытие подключения к базе данных\n",
    "    if connection:\n",
    "        connection.close()\n",
    "        print(\"Соединение с PostgreSQL закрыто\")\n",
    "        "
   ]
  },
  {
   "cell_type": "markdown",
   "id": "d808df84",
   "metadata": {},
   "source": [
    "6. Сгруппируем клиентов по их zip_code, и посмотрим на среднее количество транзакций на одного клиента. Экспортируем эти данные в Excel и создадим диаграмму рассеяния, чтобы лучше понять взаимосвязь между использованием общественного транспорта и продажами"
   ]
  },
  {
   "cell_type": "code",
   "execution_count": 1,
   "id": "c88ba56e",
   "metadata": {},
   "outputs": [
    {
     "name": "stderr",
     "output_type": "stream",
     "text": [
      "C:\\Users\\malen\\AppData\\Local\\Temp\\ipykernel_3020\\3325498220.py:38: UserWarning: pandas only supports SQLAlchemy connectable (engine/connection) or database string URI or sqlite3 DBAPI2 connection. Other DBAPI2 objects are not tested. Please consider using SQLAlchemy.\n",
      "  data = pandas.read_sql(query, connection)\n"
     ]
    },
    {
     "name": "stdout",
     "output_type": "stream",
     "text": [
      "Данные успешно экспортированы в файл: analysis_sales.csv\n"
     ]
    },
    {
     "data": {
      "image/png": "[encoded data removed]",
      "text/plain": [
       "<Figure size 640x480 with 1 Axes>"
      ]
     },
     "metadata": {},
     "output_type": "display_data"
    },
    {
     "name": "stdout",
     "output_type": "stream",
     "text": [
      "Соединение с PostgreSQL закрыто\n"
     ]
    }
   ],
   "source": [
    "import psycopg2\n",
    "import pandas\n",
    "import matplotlib.pyplot as plt\n",
    "\n",
    "def get_connection(database_name):\n",
    "    # Функция для получения подключения к базе данных\n",
    "    connection = psycopg2.connect(user=\"postgres\",\n",
    "                                  password=\"1\",\n",
    "                                  host=\"localhost\",\n",
    "                                  port=\"5432\",\n",
    "                                  database=database_name)\n",
    "    return connection\n",
    "\n",
    "try:\n",
    "    # Подключение к базе данных 'myslon'\n",
    "    connection = get_connection(\"myslon\")\n",
    "    \n",
    "    # SQL-запрос для группировки данных по zip_code\n",
    "    query = \"\"\"\n",
    "    SELECT \n",
    "        pts.zip_code,\n",
    "        COUNT(DISTINCT c.customer_id) AS customer_count,\n",
    "        COUNT(*) / COUNT(DISTINCT c.customer_id) AS avg_transactions,\n",
    "        AVG(s.sales_amount) AS avg_sales_amount,\n",
    "        pts.public_transportation_pct\n",
    "    FROM \n",
    "        customers c\n",
    "    JOIN \n",
    "        sales s ON c.customer_id = s.customer_id\n",
    "    JOIN \n",
    "        public_transportation_statistics_by_zip_code pts ON c.postal_code = pts.zip_code\n",
    "    WHERE public_transportation_pct >= 0\n",
    "    GROUP BY \n",
    "        pts.zip_code, pts.public_transportation_pct;\n",
    "    \"\"\"\n",
    "    \n",
    "    # Загрузка данных в DataFrame\n",
    "    data = pandas.read_sql(query, connection)\n",
    "\n",
    "    # Экспорт данных в CSV\n",
    "    csv_file = \"analysis_sales.csv\"\n",
    "    data.to_csv(csv_file, index=False)\n",
    "    print(f\"Данные успешно экспортированы в файл: {csv_file}\")\n",
    "\n",
    "    # Построение диаграммы рассеяния\n",
    "    plt.scatter(data['public_transportation_pct'], data['avg_sales_amount'])\n",
    "    plt.title('Взаимосвязь между использованием общественного транспорта и продажами')\n",
    "    plt.xlabel('Процент использования общественного транспорта')\n",
    "    plt.ylabel('Средний объем продаж')\n",
    "    plt.show()\n",
    "\n",
    "except (Exception, psycopg2.Error) as error:\n",
    "    print(\"Ошибка при подключении или работе с PostgreSQL:\", error)\n",
    "\n",
    "finally:\n",
    "    # Закрытие подключения к базе данных\n",
    "    if connection:\n",
    "        connection.close()\n",
    "        print(\"Соединение с PostgreSQL закрыто\")"
   ]
  }
 ],
 "metadata": {
  "kernelspec": {
   "display_name": "Python 3",
   "language": "python",
   "name": "python3"
  },
  "language_info": {
   "codemirror_mode": {
    "name": "ipython",
    "version": 3
   },
   "file_extension": ".py",
   "mimetype": "text/x-python",
   "name": "python",
   "nbconvert_exporter": "python",
   "pygments_lexer": "ipython3",
   "version": "3.12.10"
  }
 },
 "nbformat": 4,
 "nbformat_minor": 5
}
